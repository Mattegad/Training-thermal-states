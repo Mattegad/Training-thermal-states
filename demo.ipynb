{
 "cells": [
  {
   "cell_type": "markdown",
   "id": "72d87170",
   "metadata": {},
   "source": [
    "# 🎯 Démo : Training Thermal States\n",
    "\n",
    "Ce notebook montre comment utiliser les modules du projet **Training-thermal-states** pour :\n",
    "\n",
    "1. Simuler le spectre \\(S(\\omega)\\) d’un état quantique (thermique ou squeezé),\n",
    "2. Calculer les moments du spectre,\n",
    "3. Entraîner un modèle de régression pour estimer le paramètre de squeezing \\(r\\),\n",
    "4. Visualiser les résultats.\n",
    "\n",
    "---\n",
    "\n",
    "**Modules utilisés**\n",
    "- `spectrum.py` : génération du spectre de bruit\n",
    "- `moments.py` : calcul des moments \\(M_0, M_1, ...\\)\n",
    "- `train.py` : apprentissage linéaire sur les données simulées\n"
   ]
  },
  {
   "cell_type": "code",
   "execution_count": null,
   "id": "30a56b74",
   "metadata": {},
   "outputs": [],
   "source": [
    "import numpy as np\n",
    "import matplotlib.pyplot as plt\n",
    "from src.spectrum import compute_spectrum\n",
    "from src.moments import compute_moments\n",
    "from src.train import train_model, predict\n"
   ]
  },
  {
   "cell_type": "markdown",
   "id": "f04239de",
   "metadata": {},
   "source": [
    "## ✅ Conclusion\n",
    "\n",
    "Ce notebook a montré comment :\n",
    "- Générer des spectres à partir de ton modèle physique,\n",
    "- Extraire leurs moments caractéristiques,\n",
    "- Entraîner et tester un modèle de régression pour estimer le squeezing.\n",
    "\n",
    "Prochaines étapes possibles :\n",
    "- Étendre le modèle à d’autres observables (corrélations croisées),\n",
    "- Tester d’autres types de bruit (Kerr, dissipatif),\n",
    "- Enrichir le dataset pour améliorer la précision.\n",
    "\n",
    "---\n",
    "*Notebook généré automatiquement à des fins de démo.*\n"
   ]
  }
 ],
 "metadata": {
  "kernelspec": {
   "display_name": ".venv",
   "language": "python",
   "name": "python3"
  },
  "language_info": {
   "codemirror_mode": {
    "name": "ipython",
    "version": 3
   },
   "file_extension": ".py",
   "mimetype": "text/x-python",
   "name": "python",
   "nbconvert_exporter": "python",
   "pygments_lexer": "ipython3",
   "version": "3.9.13"
  }
 },
 "nbformat": 4,
 "nbformat_minor": 5
}
